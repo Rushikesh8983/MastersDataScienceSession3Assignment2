{
 "cells": [
  {
   "cell_type": "code",
   "execution_count": 1,
   "metadata": {},
   "outputs": [
    {
     "name": "stdout",
     "output_type": "stream",
     "text": [
      "['x', 'xx', 'xxx', 'xxxx', 'y', 'yy', 'yyy', 'yyyy', 'z', 'zz', 'zzz', 'zzzz']\n",
      "[['x', 'y', 'z', 'xx', 'yy', 'zz', 'xxx', 'yyy', 'zzz', 'xxxx', 'yyyy', 'zzzz']]\n"
     ]
    }
   ],
   "source": [
    "l1=['x']\n",
    "l2=['y']\n",
    "l3=['z']\n",
    "l1=[l1[0], l1[0]*2, l1[0]*3, l1[0]*4]\n",
    "l2=[l2[0], l2[0]*2, l2[0]*3, l2[0]*4]\n",
    "l3=[l3[0], l3[0]*2, l3[0]*3, l3[0]*4]\n",
    "matrix=[l1,l2,l3]\n",
    "lst1=[l1[0], l1[0]*2, l1[0]*3, l1[0]*4,l2[0], l2[0]*2, l2[0]*3, l2[0]*4,l3[0], l3[0]*2, l3[0]*3, l3[0]*4]\n",
    "print (lst1)\n",
    "new_matrix=[[row[0] for row in matrix] + [row[1] for row in matrix] + [row[2] for row in matrix] + [row[3] for row in matrix]]\n",
    "print (new_matrix)"
   ]
  },
  {
   "cell_type": "code",
   "execution_count": null,
   "metadata": {},
   "outputs": [],
   "source": []
  }
 ],
 "metadata": {
  "kernelspec": {
   "display_name": "Python 3",
   "language": "python",
   "name": "python3"
  },
  "language_info": {
   "codemirror_mode": {
    "name": "ipython",
    "version": 3
   },
   "file_extension": ".py",
   "mimetype": "text/x-python",
   "name": "python",
   "nbconvert_exporter": "python",
   "pygments_lexer": "ipython3",
   "version": "3.6.4"
  }
 },
 "nbformat": 4,
 "nbformat_minor": 2
}
